{
 "cells": [
  {
   "cell_type": "code",
   "execution_count": 8,
   "id": "d38ca4ef-7583-4dcf-99db-524953e2586c",
   "metadata": {},
   "outputs": [],
   "source": [
    "import os\n",
    "import numpy as np \n",
    "import pandas as pd"
   ]
  },
  {
   "cell_type": "code",
   "execution_count": 9,
   "id": "bfe2837a-3e5c-4e9a-87e2-eaf6d598a56e",
   "metadata": {},
   "outputs": [],
   "source": [
    "Datasets_path=\"C:\\\\Users\\\\asus\\\\Desktop\\\\Data Science\\\\Machine Learning\\\\Project\\\\Datasets\"\n",
    "Data=pd.read_csv(f\"{Datasets_path}\\\\delays_train.csv\")"
   ]
  },
  {
   "cell_type": "code",
   "execution_count": 81,
   "id": "94d43107-979c-4bea-898e-d5d4122f53c2",
   "metadata": {},
   "outputs": [
    {
     "data": {
      "text/html": [
       "<div>\n",
       "<style scoped>\n",
       "    .dataframe tbody tr th:only-of-type {\n",
       "        vertical-align: middle;\n",
       "    }\n",
       "\n",
       "    .dataframe tbody tr th {\n",
       "        vertical-align: top;\n",
       "    }\n",
       "\n",
       "    .dataframe thead th {\n",
       "        text-align: right;\n",
       "    }\n",
       "</style>\n",
       "<table border=\"1\" class=\"dataframe\">\n",
       "  <thead>\n",
       "    <tr style=\"text-align: right;\">\n",
       "      <th></th>\n",
       "      <th>Weekday</th>\n",
       "      <th>Month_of_Year</th>\n",
       "      <th>Day_of_Month</th>\n",
       "      <th>Scheduled_Departure_Time</th>\n",
       "      <th>Scheduled_Arrival_Time</th>\n",
       "      <th>Marketing_Airline</th>\n",
       "      <th>Marketing_Airline_DOT_ID</th>\n",
       "      <th>Flight_Number</th>\n",
       "      <th>Origin_Airport_ID</th>\n",
       "      <th>Destination_Airport_ID</th>\n",
       "      <th>...</th>\n",
       "      <th>Flight_Diverted</th>\n",
       "      <th>Actual_Departure_Time</th>\n",
       "      <th>Flight_Duration</th>\n",
       "      <th>Flight_Distance</th>\n",
       "      <th>Origin_Temperature</th>\n",
       "      <th>Destination_Temperature</th>\n",
       "      <th>Origin_Wind_Speed</th>\n",
       "      <th>Destination_Wind_Speed</th>\n",
       "      <th>Origin_Precipitation</th>\n",
       "      <th>Destination_Precipitation</th>\n",
       "    </tr>\n",
       "  </thead>\n",
       "  <tbody>\n",
       "    <tr>\n",
       "      <th>0</th>\n",
       "      <td>6</td>\n",
       "      <td>6</td>\n",
       "      <td>25</td>\n",
       "      <td>1222</td>\n",
       "      <td>1444</td>\n",
       "      <td>B6</td>\n",
       "      <td>20409</td>\n",
       "      <td>520</td>\n",
       "      <td>10397</td>\n",
       "      <td>12478.0</td>\n",
       "      <td>...</td>\n",
       "      <td>False</td>\n",
       "      <td>1224.0</td>\n",
       "      <td>107.0</td>\n",
       "      <td>760.0</td>\n",
       "      <td>25.140220</td>\n",
       "      <td>19.357739</td>\n",
       "      <td>21.019808</td>\n",
       "      <td>15.452723</td>\n",
       "      <td>0.0</td>\n",
       "      <td>0.0</td>\n",
       "    </tr>\n",
       "    <tr>\n",
       "      <th>1</th>\n",
       "      <td>2</td>\n",
       "      <td>6</td>\n",
       "      <td>21</td>\n",
       "      <td>1216</td>\n",
       "      <td>1304</td>\n",
       "      <td>NaN</td>\n",
       "      <td>19805</td>\n",
       "      <td>6297</td>\n",
       "      <td>14107</td>\n",
       "      <td>15376.0</td>\n",
       "      <td>...</td>\n",
       "      <td>False</td>\n",
       "      <td>1216.0</td>\n",
       "      <td>23.0</td>\n",
       "      <td>110.0</td>\n",
       "      <td>13.279939</td>\n",
       "      <td>20.470690</td>\n",
       "      <td>18.045064</td>\n",
       "      <td>12.910265</td>\n",
       "      <td>0.0</td>\n",
       "      <td>0.0</td>\n",
       "    </tr>\n",
       "    <tr>\n",
       "      <th>2</th>\n",
       "      <td>3</td>\n",
       "      <td>1</td>\n",
       "      <td>5</td>\n",
       "      <td>1945</td>\n",
       "      <td>2055</td>\n",
       "      <td>DL</td>\n",
       "      <td>19790</td>\n",
       "      <td>4124</td>\n",
       "      <td>13487</td>\n",
       "      <td>13076.0</td>\n",
       "      <td>...</td>\n",
       "      <td>False</td>\n",
       "      <td>1945.0</td>\n",
       "      <td>36.0</td>\n",
       "      <td>119.0</td>\n",
       "      <td>17.816202</td>\n",
       "      <td>13.967273</td>\n",
       "      <td>21.606228</td>\n",
       "      <td>17.976362</td>\n",
       "      <td>0.0</td>\n",
       "      <td>0.1</td>\n",
       "    </tr>\n",
       "    <tr>\n",
       "      <th>3</th>\n",
       "      <td>2</td>\n",
       "      <td>3</td>\n",
       "      <td>22</td>\n",
       "      <td>700</td>\n",
       "      <td>924</td>\n",
       "      <td>AA</td>\n",
       "      <td>19805</td>\n",
       "      <td>1538</td>\n",
       "      <td>15624</td>\n",
       "      <td>11298.0</td>\n",
       "      <td>...</td>\n",
       "      <td>False</td>\n",
       "      <td>658.0</td>\n",
       "      <td>125.0</td>\n",
       "      <td>641.0</td>\n",
       "      <td>24.562566</td>\n",
       "      <td>14.509228</td>\n",
       "      <td>24.946489</td>\n",
       "      <td>22.630553</td>\n",
       "      <td>0.0</td>\n",
       "      <td>0.0</td>\n",
       "    </tr>\n",
       "    <tr>\n",
       "      <th>4</th>\n",
       "      <td>4</td>\n",
       "      <td>7</td>\n",
       "      <td>14</td>\n",
       "      <td>2130</td>\n",
       "      <td>2359</td>\n",
       "      <td>NaN</td>\n",
       "      <td>19930</td>\n",
       "      <td>1116</td>\n",
       "      <td>14747</td>\n",
       "      <td>12889.0</td>\n",
       "      <td>...</td>\n",
       "      <td>False</td>\n",
       "      <td>2133.0</td>\n",
       "      <td>130.0</td>\n",
       "      <td>867.0</td>\n",
       "      <td>8.817992</td>\n",
       "      <td>10.866812</td>\n",
       "      <td>17.426336</td>\n",
       "      <td>17.401007</td>\n",
       "      <td>0.0</td>\n",
       "      <td>0.0</td>\n",
       "    </tr>\n",
       "  </tbody>\n",
       "</table>\n",
       "<p>5 rows × 28 columns</p>\n",
       "</div>"
      ],
      "text/plain": [
       "   Weekday  Month_of_Year  Day_of_Month  Scheduled_Departure_Time  \\\n",
       "0        6              6            25                      1222   \n",
       "1        2              6            21                      1216   \n",
       "2        3              1             5                      1945   \n",
       "3        2              3            22                       700   \n",
       "4        4              7            14                      2130   \n",
       "\n",
       "   Scheduled_Arrival_Time Marketing_Airline  Marketing_Airline_DOT_ID  \\\n",
       "0                    1444                B6                     20409   \n",
       "1                    1304               NaN                     19805   \n",
       "2                    2055                DL                     19790   \n",
       "3                     924                AA                     19805   \n",
       "4                    2359               NaN                     19930   \n",
       "\n",
       "   Flight_Number  Origin_Airport_ID  Destination_Airport_ID  ...  \\\n",
       "0            520              10397                 12478.0  ...   \n",
       "1           6297              14107                 15376.0  ...   \n",
       "2           4124              13487                 13076.0  ...   \n",
       "3           1538              15624                 11298.0  ...   \n",
       "4           1116              14747                 12889.0  ...   \n",
       "\n",
       "   Flight_Diverted Actual_Departure_Time Flight_Duration  Flight_Distance  \\\n",
       "0            False                1224.0           107.0            760.0   \n",
       "1            False                1216.0            23.0            110.0   \n",
       "2            False                1945.0            36.0            119.0   \n",
       "3            False                 658.0           125.0            641.0   \n",
       "4            False                2133.0           130.0            867.0   \n",
       "\n",
       "   Origin_Temperature  Destination_Temperature  Origin_Wind_Speed  \\\n",
       "0           25.140220                19.357739          21.019808   \n",
       "1           13.279939                20.470690          18.045064   \n",
       "2           17.816202                13.967273          21.606228   \n",
       "3           24.562566                14.509228          24.946489   \n",
       "4            8.817992                10.866812          17.426336   \n",
       "\n",
       "   Destination_Wind_Speed  Origin_Precipitation  Destination_Precipitation  \n",
       "0               15.452723                   0.0                        0.0  \n",
       "1               12.910265                   0.0                        0.0  \n",
       "2               17.976362                   0.0                        0.1  \n",
       "3               22.630553                   0.0                        0.0  \n",
       "4               17.401007                   0.0                        0.0  \n",
       "\n",
       "[5 rows x 28 columns]"
      ]
     },
     "execution_count": 81,
     "metadata": {},
     "output_type": "execute_result"
    }
   ],
   "source": [
    "Data.head()"
   ]
  },
  {
   "cell_type": "code",
   "execution_count": 4,
   "id": "0577aebb-d21f-4f7f-88d0-368ae2fc9f89",
   "metadata": {},
   "outputs": [
    {
     "data": {
      "text/plain": [
       "Index(['Weekday', 'Month_of_Year', 'Day_of_Month', 'Scheduled_Departure_Time',\n",
       "       'Scheduled_Arrival_Time', 'Marketing_Airline',\n",
       "       'Marketing_Airline_DOT_ID', 'Flight_Number', 'Origin_Airport_ID',\n",
       "       'Destination_Airport_ID', 'Flight_Cancelled', 'Departure_State',\n",
       "       'Arrival_State', 'Departure_Delay', 'Arrival_Delay',\n",
       "       'Diverted_Airport_Landings', 'Taxi_Out_Time', 'Taxi_In_Time',\n",
       "       'Flight_Diverted', 'Actual_Departure_Time', 'Flight_Duration',\n",
       "       'Flight_Distance', 'Origin_Temperature', 'Destination_Temperature',\n",
       "       'Origin_Wind_Speed', 'Destination_Wind_Speed', 'Origin_Precipitation',\n",
       "       'Destination_Precipitation'],\n",
       "      dtype='object')"
      ]
     },
     "execution_count": 4,
     "metadata": {},
     "output_type": "execute_result"
    }
   ],
   "source": [
    "Data.columns"
   ]
  },
  {
   "cell_type": "code",
   "execution_count": 108,
   "id": "24ea6f26-de80-48f9-b749-127c8c6ec2ec",
   "metadata": {},
   "outputs": [
    {
     "data": {
      "text/plain": [
       "Weekday                           0\n",
       "Month_of_Year                     0\n",
       "Day_of_Month                      0\n",
       "Scheduled_Departure_Time          0\n",
       "Scheduled_Arrival_Time            0\n",
       "Marketing_Airline                 0\n",
       "Marketing_Airline_DOT_ID          0\n",
       "Flight_Number                     0\n",
       "Origin_Airport_ID                 0\n",
       "Destination_Airport_ID            0\n",
       "Flight_Cancelled                  0\n",
       "Departure_State                   0\n",
       "Arrival_State                     0\n",
       "Departure_Delay              206461\n",
       "Arrival_Delay                211306\n",
       "Diverted_Airport_Landings         0\n",
       "Taxi_Out_Time                 49225\n",
       "Taxi_In_Time                  49867\n",
       "Flight_Diverted                   0\n",
       "Actual_Departure_Time         48326\n",
       "Flight_Duration              211490\n",
       "Flight_Distance              163190\n",
       "Origin_Temperature           163190\n",
       "Destination_Temperature      163190\n",
       "Origin_Wind_Speed            211490\n",
       "Destination_Wind_Speed       211490\n",
       "Origin_Precipitation              0\n",
       "Destination_Precipitation         0\n",
       "dtype: int64"
      ]
     },
     "execution_count": 108,
     "metadata": {},
     "output_type": "execute_result"
    }
   ],
   "source": [
    "Data.isna().sum()"
   ]
  },
  {
   "cell_type": "code",
   "execution_count": 107,
   "id": "26fac9d0-f0e1-4529-8d44-ab289a12673b",
   "metadata": {},
   "outputs": [],
   "source": [
    "# Data['Destination_Airport_ID'] = Data['Destination_Airport_ID'].fillna(Data.groupby('Origin_Airport_ID')['Destination_Airport_ID'].transform(lambda x: x.mode().iloc[0]))"
   ]
  },
  {
   "cell_type": "code",
   "execution_count": 111,
   "id": "a3614988-6260-4992-8b17-652b05ee5df7",
   "metadata": {},
   "outputs": [],
   "source": [
    "# Data['Departure_Delay'].fillna(Data['Departure_Delay'].mean(), inplace=True)"
   ]
  },
  {
   "cell_type": "code",
   "execution_count": 112,
   "id": "9d47ffac-f1a6-442c-8f3b-24fab703f055",
   "metadata": {},
   "outputs": [],
   "source": [
    "# Data['Arrival_Delay'].fillna(Data['Arrival_Delay'].mean(), inplace=True)"
   ]
  },
  {
   "cell_type": "code",
   "execution_count": 113,
   "id": "b3bfa5c5-3150-4cbc-8bfe-aa7df8a632e0",
   "metadata": {},
   "outputs": [],
   "source": [
    "# Data['Taxi_Out_Time'].fillna(Data['Taxi_Out_Time'].mean(), inplace=True)"
   ]
  },
  {
   "cell_type": "code",
   "execution_count": 114,
   "id": "848b5cdd-ba12-48e3-8ba8-bfa9f2cbaedc",
   "metadata": {},
   "outputs": [],
   "source": [
    "# Data['Taxi_In_Time'].fillna(Data['Taxi_In_Time'].mean(), inplace=True)"
   ]
  },
  {
   "cell_type": "code",
   "execution_count": 116,
   "id": "246b0cf3-075a-43ad-88df-a605474e19be",
   "metadata": {},
   "outputs": [],
   "source": [
    "# mode_value = Data['Actual_Departure_Time'].mode().iloc[0]\n",
    "# Data['Actual_Departure_Time'].fillna(mode_value, inplace=True)"
   ]
  },
  {
   "cell_type": "code",
   "execution_count": 118,
   "id": "bd2ad35e-d770-4049-96f3-e321c2982320",
   "metadata": {},
   "outputs": [],
   "source": [
    "# Data['Flight_Duration'].fillna(Data['Flight_Duration'].mean(), inplace=True)\n",
    "# Data['Flight_Distance'].fillna(Data['Flight_Distance'].mean(), inplace=True)"
   ]
  },
  {
   "cell_type": "code",
   "execution_count": 119,
   "id": "c8bc1c65-563e-4f8b-87b3-3ebc33771820",
   "metadata": {},
   "outputs": [],
   "source": [
    "# Data['Origin_Temperature'] = Data['Origin_Temperature'].fillna(Data.groupby('Origin_Airport_ID')['Origin_Temperature'].transform('mean'))"
   ]
  },
  {
   "cell_type": "code",
   "execution_count": 120,
   "id": "ad928eb6-93df-45ff-a065-972d32544413",
   "metadata": {},
   "outputs": [],
   "source": [
    "# Data['Origin_Wind_Speed'] = Data['Origin_Wind_Speed'].fillna(Data.groupby('Origin_Airport_ID')['Origin_Wind_Speed'].transform('mean'))"
   ]
  },
  {
   "cell_type": "code",
   "execution_count": 121,
   "id": "fb48743f-638e-4c6c-a64d-21646fe4ab40",
   "metadata": {},
   "outputs": [],
   "source": [
    "# Data['Destination_Temperature'] = Data['Destination_Temperature'].fillna(Data.groupby('Destination_Airport_ID')['Destination_Temperature'].transform('mean'))"
   ]
  },
  {
   "cell_type": "code",
   "execution_count": 122,
   "id": "9b6dd96f-ceba-4048-a214-f8e177b4d83c",
   "metadata": {},
   "outputs": [],
   "source": [
    "# Data['Destination_Wind_Speed'] = Data['Destination_Wind_Speed'].fillna(Data.groupby('Destination_Airport_ID')['Destination_Wind_Speed'].transform('mean'))"
   ]
  },
  {
   "cell_type": "code",
   "execution_count": 124,
   "id": "6b1d3a7b-de18-4b99-94f6-f4abe98883e4",
   "metadata": {},
   "outputs": [
    {
     "data": {
      "text/plain": [
       "Weekday                      0\n",
       "Month_of_Year                0\n",
       "Day_of_Month                 0\n",
       "Scheduled_Departure_Time     0\n",
       "Scheduled_Arrival_Time       0\n",
       "Marketing_Airline_DOT_ID     0\n",
       "Flight_Number                0\n",
       "Origin_Airport_ID            0\n",
       "Destination_Airport_ID       0\n",
       "Flight_Cancelled             0\n",
       "Departure_State              0\n",
       "Arrival_State                0\n",
       "Departure_Delay              0\n",
       "Arrival_Delay                0\n",
       "Diverted_Airport_Landings    0\n",
       "Taxi_Out_Time                0\n",
       "Taxi_In_Time                 0\n",
       "Flight_Diverted              0\n",
       "Actual_Departure_Time        0\n",
       "Flight_Duration              0\n",
       "Flight_Distance              0\n",
       "Origin_Temperature           0\n",
       "Destination_Temperature      0\n",
       "Origin_Wind_Speed            0\n",
       "Destination_Wind_Speed       0\n",
       "Origin_Precipitation         0\n",
       "Destination_Precipitation    0\n",
       "Marketing_Airline_AS         0\n",
       "Marketing_Airline_B6         0\n",
       "Marketing_Airline_DL         0\n",
       "Marketing_Airline_F9         0\n",
       "Marketing_Airline_G4         0\n",
       "Marketing_Airline_HA         0\n",
       "Marketing_Airline_NK         0\n",
       "Marketing_Airline_UA         0\n",
       "Marketing_Airline_WN         0\n",
       "dtype: int64"
      ]
     },
     "execution_count": 124,
     "metadata": {},
     "output_type": "execute_result"
    }
   ],
   "source": [
    "Data.isna().sum()"
   ]
  },
  {
   "cell_type": "code",
   "execution_count": 127,
   "id": "7d727e65-d4fe-4952-9e40-77d4a3074e55",
   "metadata": {},
   "outputs": [
    {
     "name": "stdout",
     "output_type": "stream",
     "text": [
      "                      Feature  Coefficient\n",
      "10            Departure_Delay    42.571852\n",
      "12              Taxi_Out_Time     7.120674\n",
      "13               Taxi_In_Time     4.704373\n",
      "17            Flight_Distance    -1.830735\n",
      "32       Marketing_Airline_WN     1.345573\n",
      "28       Marketing_Airline_G4     1.208884\n",
      "15      Actual_Departure_Time     1.043660\n",
      "1               Month_of_Year     0.690722\n",
      "31       Marketing_Airline_UA    -0.644253\n",
      "29       Marketing_Airline_HA     0.616965\n",
      "24       Marketing_Airline_AS     0.612517\n",
      "14            Flight_Diverted    -0.555985\n",
      "16            Flight_Duration     0.470964\n",
      "6               Flight_Number    -0.437785\n",
      "30       Marketing_Airline_NK     0.373177\n",
      "11  Diverted_Airport_Landings    -0.326973\n",
      "0                     Weekday     0.184680\n",
      "26       Marketing_Airline_DL    -0.129387\n",
      "9            Flight_Cancelled     0.119930\n",
      "27       Marketing_Airline_F9     0.088168\n",
      "20          Origin_Wind_Speed     0.082265\n",
      "2                Day_of_Month    -0.072959\n",
      "21     Destination_Wind_Speed     0.064616\n",
      "3    Scheduled_Departure_Time     0.025487\n",
      "19    Destination_Temperature    -0.022414\n",
      "8      Destination_Airport_ID     0.019189\n",
      "7           Origin_Airport_ID    -0.015670\n",
      "25       Marketing_Airline_B6     0.010296\n",
      "18         Origin_Temperature    -0.000000\n",
      "22       Origin_Precipitation    -0.000000\n",
      "5    Marketing_Airline_DOT_ID     0.000000\n",
      "4      Scheduled_Arrival_Time     0.000000\n",
      "23  Destination_Precipitation     0.000000\n"
     ]
    }
   ],
   "source": [
    "import pandas as pd\n",
    "import numpy as np\n",
    "from sklearn.model_selection import train_test_split\n",
    "from sklearn.preprocessing import StandardScaler\n",
    "from sklearn.linear_model import ElasticNetCV\n",
    "\n",
    "# 2. Separate Features and Target\n",
    "X = Data.drop(columns=['Arrival_Delay'])\n",
    "y = Data['Arrival_Delay']\n",
    "\n",
    "# 3. Standardize Features\n",
    "scaler = StandardScaler()\n",
    "X_scaled = scaler.fit_transform(X)\n",
    "\n",
    "# 4. Fit Elastic Net Model\n",
    "elastic_net = ElasticNetCV(cv=5, random_state=0)\n",
    "elastic_net.fit(X_scaled, y)\n",
    "\n",
    "# 5. Identify Important Features\n",
    "# Get the coefficients from the model\n",
    "coefficients = elastic_net.coef_\n",
    "\n",
    "# Create a DataFrame to display feature importance\n",
    "feature_importance = pd.DataFrame({\n",
    "    'Feature': X.columns,\n",
    "    'Coefficient': coefficients\n",
    "})\n",
    "\n",
    "# Sort by absolute value of coefficient to see most important features\n",
    "feature_importance['Abs_Coefficient'] = feature_importance['Coefficient'].abs()\n",
    "feature_importance = feature_importance.sort_values(by='Abs_Coefficient', ascending=False)\n",
    "\n",
    "# Display the important features\n",
    "print(feature_importance[['Feature', 'Coefficient']])"
   ]
  },
  {
   "cell_type": "code",
   "execution_count": 98,
   "id": "a95332ed-58bf-453c-9f1f-1e1a3aef4243",
   "metadata": {},
   "outputs": [
    {
     "ename": "KeyError",
     "evalue": "\"['Scheduled_Arrival_Time', 'Destination_Precipitation', 'Origin_Temperature', 'Origin_Precipitation'] not found in axis\"",
     "output_type": "error",
     "traceback": [
      "\u001b[1;31m---------------------------------------------------------------------------\u001b[0m",
      "\u001b[1;31mKeyError\u001b[0m                                  Traceback (most recent call last)",
      "Cell \u001b[1;32mIn[98], line 2\u001b[0m\n\u001b[0;32m      1\u001b[0m columns_to_drop \u001b[38;5;241m=\u001b[39m [\u001b[38;5;124m'\u001b[39m\u001b[38;5;124mScheduled_Arrival_Time\u001b[39m\u001b[38;5;124m'\u001b[39m, \u001b[38;5;124m'\u001b[39m\u001b[38;5;124mDestination_Precipitation\u001b[39m\u001b[38;5;124m'\u001b[39m, \u001b[38;5;124m'\u001b[39m\u001b[38;5;124mOrigin_Temperature\u001b[39m\u001b[38;5;124m'\u001b[39m,\u001b[38;5;124m'\u001b[39m\u001b[38;5;124mOrigin_Precipitation\u001b[39m\u001b[38;5;124m'\u001b[39m]\n\u001b[1;32m----> 2\u001b[0m Data \u001b[38;5;241m=\u001b[39m \u001b[43mData\u001b[49m\u001b[38;5;241;43m.\u001b[39;49m\u001b[43mdrop\u001b[49m\u001b[43m(\u001b[49m\u001b[43mcolumns\u001b[49m\u001b[38;5;241;43m=\u001b[39;49m\u001b[43mcolumns_to_drop\u001b[49m\u001b[43m)\u001b[49m\n",
      "File \u001b[1;32m~\\anaconda3\\Lib\\site-packages\\pandas\\core\\frame.py:5344\u001b[0m, in \u001b[0;36mDataFrame.drop\u001b[1;34m(self, labels, axis, index, columns, level, inplace, errors)\u001b[0m\n\u001b[0;32m   5196\u001b[0m \u001b[38;5;28;01mdef\u001b[39;00m \u001b[38;5;21mdrop\u001b[39m(\n\u001b[0;32m   5197\u001b[0m     \u001b[38;5;28mself\u001b[39m,\n\u001b[0;32m   5198\u001b[0m     labels: IndexLabel \u001b[38;5;241m|\u001b[39m \u001b[38;5;28;01mNone\u001b[39;00m \u001b[38;5;241m=\u001b[39m \u001b[38;5;28;01mNone\u001b[39;00m,\n\u001b[1;32m   (...)\u001b[0m\n\u001b[0;32m   5205\u001b[0m     errors: IgnoreRaise \u001b[38;5;241m=\u001b[39m \u001b[38;5;124m\"\u001b[39m\u001b[38;5;124mraise\u001b[39m\u001b[38;5;124m\"\u001b[39m,\n\u001b[0;32m   5206\u001b[0m ) \u001b[38;5;241m-\u001b[39m\u001b[38;5;241m>\u001b[39m DataFrame \u001b[38;5;241m|\u001b[39m \u001b[38;5;28;01mNone\u001b[39;00m:\n\u001b[0;32m   5207\u001b[0m \u001b[38;5;250m    \u001b[39m\u001b[38;5;124;03m\"\"\"\u001b[39;00m\n\u001b[0;32m   5208\u001b[0m \u001b[38;5;124;03m    Drop specified labels from rows or columns.\u001b[39;00m\n\u001b[0;32m   5209\u001b[0m \n\u001b[1;32m   (...)\u001b[0m\n\u001b[0;32m   5342\u001b[0m \u001b[38;5;124;03m            weight  1.0     0.8\u001b[39;00m\n\u001b[0;32m   5343\u001b[0m \u001b[38;5;124;03m    \"\"\"\u001b[39;00m\n\u001b[1;32m-> 5344\u001b[0m     \u001b[38;5;28;01mreturn\u001b[39;00m \u001b[38;5;28;43msuper\u001b[39;49m\u001b[43m(\u001b[49m\u001b[43m)\u001b[49m\u001b[38;5;241;43m.\u001b[39;49m\u001b[43mdrop\u001b[49m\u001b[43m(\u001b[49m\n\u001b[0;32m   5345\u001b[0m \u001b[43m        \u001b[49m\u001b[43mlabels\u001b[49m\u001b[38;5;241;43m=\u001b[39;49m\u001b[43mlabels\u001b[49m\u001b[43m,\u001b[49m\n\u001b[0;32m   5346\u001b[0m \u001b[43m        \u001b[49m\u001b[43maxis\u001b[49m\u001b[38;5;241;43m=\u001b[39;49m\u001b[43maxis\u001b[49m\u001b[43m,\u001b[49m\n\u001b[0;32m   5347\u001b[0m \u001b[43m        \u001b[49m\u001b[43mindex\u001b[49m\u001b[38;5;241;43m=\u001b[39;49m\u001b[43mindex\u001b[49m\u001b[43m,\u001b[49m\n\u001b[0;32m   5348\u001b[0m \u001b[43m        \u001b[49m\u001b[43mcolumns\u001b[49m\u001b[38;5;241;43m=\u001b[39;49m\u001b[43mcolumns\u001b[49m\u001b[43m,\u001b[49m\n\u001b[0;32m   5349\u001b[0m \u001b[43m        \u001b[49m\u001b[43mlevel\u001b[49m\u001b[38;5;241;43m=\u001b[39;49m\u001b[43mlevel\u001b[49m\u001b[43m,\u001b[49m\n\u001b[0;32m   5350\u001b[0m \u001b[43m        \u001b[49m\u001b[43minplace\u001b[49m\u001b[38;5;241;43m=\u001b[39;49m\u001b[43minplace\u001b[49m\u001b[43m,\u001b[49m\n\u001b[0;32m   5351\u001b[0m \u001b[43m        \u001b[49m\u001b[43merrors\u001b[49m\u001b[38;5;241;43m=\u001b[39;49m\u001b[43merrors\u001b[49m\u001b[43m,\u001b[49m\n\u001b[0;32m   5352\u001b[0m \u001b[43m    \u001b[49m\u001b[43m)\u001b[49m\n",
      "File \u001b[1;32m~\\anaconda3\\Lib\\site-packages\\pandas\\core\\generic.py:4711\u001b[0m, in \u001b[0;36mNDFrame.drop\u001b[1;34m(self, labels, axis, index, columns, level, inplace, errors)\u001b[0m\n\u001b[0;32m   4709\u001b[0m \u001b[38;5;28;01mfor\u001b[39;00m axis, labels \u001b[38;5;129;01min\u001b[39;00m axes\u001b[38;5;241m.\u001b[39mitems():\n\u001b[0;32m   4710\u001b[0m     \u001b[38;5;28;01mif\u001b[39;00m labels \u001b[38;5;129;01mis\u001b[39;00m \u001b[38;5;129;01mnot\u001b[39;00m \u001b[38;5;28;01mNone\u001b[39;00m:\n\u001b[1;32m-> 4711\u001b[0m         obj \u001b[38;5;241m=\u001b[39m \u001b[43mobj\u001b[49m\u001b[38;5;241;43m.\u001b[39;49m\u001b[43m_drop_axis\u001b[49m\u001b[43m(\u001b[49m\u001b[43mlabels\u001b[49m\u001b[43m,\u001b[49m\u001b[43m \u001b[49m\u001b[43maxis\u001b[49m\u001b[43m,\u001b[49m\u001b[43m \u001b[49m\u001b[43mlevel\u001b[49m\u001b[38;5;241;43m=\u001b[39;49m\u001b[43mlevel\u001b[49m\u001b[43m,\u001b[49m\u001b[43m \u001b[49m\u001b[43merrors\u001b[49m\u001b[38;5;241;43m=\u001b[39;49m\u001b[43merrors\u001b[49m\u001b[43m)\u001b[49m\n\u001b[0;32m   4713\u001b[0m \u001b[38;5;28;01mif\u001b[39;00m inplace:\n\u001b[0;32m   4714\u001b[0m     \u001b[38;5;28mself\u001b[39m\u001b[38;5;241m.\u001b[39m_update_inplace(obj)\n",
      "File \u001b[1;32m~\\anaconda3\\Lib\\site-packages\\pandas\\core\\generic.py:4753\u001b[0m, in \u001b[0;36mNDFrame._drop_axis\u001b[1;34m(self, labels, axis, level, errors, only_slice)\u001b[0m\n\u001b[0;32m   4751\u001b[0m         new_axis \u001b[38;5;241m=\u001b[39m axis\u001b[38;5;241m.\u001b[39mdrop(labels, level\u001b[38;5;241m=\u001b[39mlevel, errors\u001b[38;5;241m=\u001b[39merrors)\n\u001b[0;32m   4752\u001b[0m     \u001b[38;5;28;01melse\u001b[39;00m:\n\u001b[1;32m-> 4753\u001b[0m         new_axis \u001b[38;5;241m=\u001b[39m \u001b[43maxis\u001b[49m\u001b[38;5;241;43m.\u001b[39;49m\u001b[43mdrop\u001b[49m\u001b[43m(\u001b[49m\u001b[43mlabels\u001b[49m\u001b[43m,\u001b[49m\u001b[43m \u001b[49m\u001b[43merrors\u001b[49m\u001b[38;5;241;43m=\u001b[39;49m\u001b[43merrors\u001b[49m\u001b[43m)\u001b[49m\n\u001b[0;32m   4754\u001b[0m     indexer \u001b[38;5;241m=\u001b[39m axis\u001b[38;5;241m.\u001b[39mget_indexer(new_axis)\n\u001b[0;32m   4756\u001b[0m \u001b[38;5;66;03m# Case for non-unique axis\u001b[39;00m\n\u001b[0;32m   4757\u001b[0m \u001b[38;5;28;01melse\u001b[39;00m:\n",
      "File \u001b[1;32m~\\anaconda3\\Lib\\site-packages\\pandas\\core\\indexes\\base.py:7000\u001b[0m, in \u001b[0;36mIndex.drop\u001b[1;34m(self, labels, errors)\u001b[0m\n\u001b[0;32m   6998\u001b[0m \u001b[38;5;28;01mif\u001b[39;00m mask\u001b[38;5;241m.\u001b[39many():\n\u001b[0;32m   6999\u001b[0m     \u001b[38;5;28;01mif\u001b[39;00m errors \u001b[38;5;241m!=\u001b[39m \u001b[38;5;124m\"\u001b[39m\u001b[38;5;124mignore\u001b[39m\u001b[38;5;124m\"\u001b[39m:\n\u001b[1;32m-> 7000\u001b[0m         \u001b[38;5;28;01mraise\u001b[39;00m \u001b[38;5;167;01mKeyError\u001b[39;00m(\u001b[38;5;124mf\u001b[39m\u001b[38;5;124m\"\u001b[39m\u001b[38;5;132;01m{\u001b[39;00mlabels[mask]\u001b[38;5;241m.\u001b[39mtolist()\u001b[38;5;132;01m}\u001b[39;00m\u001b[38;5;124m not found in axis\u001b[39m\u001b[38;5;124m\"\u001b[39m)\n\u001b[0;32m   7001\u001b[0m     indexer \u001b[38;5;241m=\u001b[39m indexer[\u001b[38;5;241m~\u001b[39mmask]\n\u001b[0;32m   7002\u001b[0m \u001b[38;5;28;01mreturn\u001b[39;00m \u001b[38;5;28mself\u001b[39m\u001b[38;5;241m.\u001b[39mdelete(indexer)\n",
      "\u001b[1;31mKeyError\u001b[0m: \"['Scheduled_Arrival_Time', 'Destination_Precipitation', 'Origin_Temperature', 'Origin_Precipitation'] not found in axis\""
     ]
    }
   ],
   "source": [
    "columns_to_drop = ['Scheduled_Arrival_Time', 'Destination_Precipitation', 'Origin_Temperature','Origin_Precipitation']\n",
    "Data = Data.drop(columns=columns_to_drop)"
   ]
  },
  {
   "cell_type": "code",
   "execution_count": 10,
   "id": "418989d0-13eb-45ab-abf9-766be6e31b24",
   "metadata": {},
   "outputs": [],
   "source": [
    "Data = pd.get_dummies(Data, columns=['Marketing_Airline'], drop_first=True)"
   ]
  },
  {
   "cell_type": "code",
   "execution_count": 11,
   "id": "14996f68-7765-4223-af3c-7538ea04169a",
   "metadata": {},
   "outputs": [],
   "source": [
    "Data = pd.get_dummies(Data, columns=['Arrival_State'], drop_first=True)\n",
    "Data = pd.get_dummies(Data, columns=['Departure_State'], drop_first=True)"
   ]
  },
  {
   "cell_type": "code",
   "execution_count": 12,
   "id": "6ae0791e-7d33-480e-a8d3-4a6bba0513a2",
   "metadata": {},
   "outputs": [],
   "source": [
    "Data.dropna(inplace=True)"
   ]
  },
  {
   "cell_type": "code",
   "execution_count": 14,
   "id": "4d026bcb-d5f7-4c12-88df-9750b6ad877b",
   "metadata": {},
   "outputs": [
    {
     "data": {
      "text/plain": [
       "Index(['Weekday', 'Month_of_Year', 'Day_of_Month', 'Scheduled_Departure_Time',\n",
       "       'Scheduled_Arrival_Time', 'Marketing_Airline_DOT_ID', 'Flight_Number',\n",
       "       'Origin_Airport_ID', 'Destination_Airport_ID', 'Flight_Cancelled',\n",
       "       ...\n",
       "       'Departure_State_TT', 'Departure_State_TX', 'Departure_State_UT',\n",
       "       'Departure_State_VA', 'Departure_State_VI', 'Departure_State_VT',\n",
       "       'Departure_State_WA', 'Departure_State_WI', 'Departure_State_WV',\n",
       "       'Departure_State_WY'],\n",
       "      dtype='object', length=138)"
      ]
     },
     "execution_count": 14,
     "metadata": {},
     "output_type": "execute_result"
    }
   ],
   "source": [
    "Data.columns"
   ]
  },
  {
   "cell_type": "code",
   "execution_count": 18,
   "id": "912bc68a-5e41-44ec-ac6c-251be5543ec2",
   "metadata": {},
   "outputs": [],
   "source": [
    "\n",
    "def handle_outliers(series):\n",
    "    Q1 = series.quantile(0.25)\n",
    "    Q3 = series.quantile(0.75)\n",
    "    IQR = Q3 - Q1\n",
    "    lower_limit = Q1 - 1.5 * IQR\n",
    "    upper_limit = Q3 + 1.5 * IQR\n",
    "    # Impute upper outliers with upper limit\n",
    "    series = np.where(series > upper_limit, upper_limit, series)\n",
    "    # Impute lower outliers with lower limit\n",
    "    series = np.where(series < lower_limit, lower_limit, series)\n",
    "    return series\n",
    "\n",
    "numeric_features = Data.select_dtypes(include=[np.number]).columns\n",
    "Data[numeric_features] = Data[numeric_features].apply(handle_outliers)\n"
   ]
  },
  {
   "cell_type": "code",
   "execution_count": 17,
   "id": "137a246d-8fb6-4e3c-b7cc-e05b9e4628c3",
   "metadata": {},
   "outputs": [
    {
     "name": "stdout",
     "output_type": "stream",
     "text": [
      "Average RMSE: 7.039077709410837\n",
      "Average MAE: 5.4238845759610355\n",
      "Average MAPE: 9.17990291670773\n"
     ]
    }
   ],
   "source": [
    "import numpy as np\n",
    "import pandas as pd\n",
    "from sklearn.model_selection import cross_val_predict, KFold\n",
    "from sklearn.linear_model import LinearRegression\n",
    "from sklearn.metrics import mean_absolute_error, mean_squared_error, mean_absolute_percentage_error\n",
    "from sklearn.preprocessing import StandardScaler\n",
    "\n",
    "# Assuming 'Data' is your DataFrame and 'target' is the name of the target variable\n",
    "# Replace 'target' with your actual target column name\n",
    "\n",
    "# Separate Features and Target\n",
    "X = Data.drop(columns=['Arrival_Delay'])\n",
    "y = Data['Arrival_Delay']\n",
    "\n",
    "# Initialize Linear Regression Model\n",
    "model = LinearRegression()\n",
    "\n",
    "# Initialize Standard Scaler\n",
    "scaler = StandardScaler()\n",
    "\n",
    "# Initialize KFold Cross-Validation\n",
    "kf = KFold(n_splits=5, shuffle=True, random_state=42)\n",
    "\n",
    "# Initialize Lists to Store Metrics\n",
    "rmse_scores = []\n",
    "mae_scores = []\n",
    "mape_scores = []\n",
    "\n",
    "# Cross-Validation Loop\n",
    "for train_index, test_index in kf.split(X):\n",
    "    X_train, X_test = X.iloc[train_index], X.iloc[test_index]\n",
    "    y_train, y_test = y.iloc[train_index], y.iloc[test_index]\n",
    "    \n",
    "    # Fit Standard Scaler on training data and transform training and testing data\n",
    "    X_train_scaled = scaler.fit_transform(X_train)\n",
    "    X_test_scaled = scaler.transform(X_test)\n",
    "    \n",
    "    # Fit Model\n",
    "    model.fit(X_train_scaled, y_train)\n",
    "    \n",
    "    # Predictions\n",
    "    y_pred = model.predict(X_test_scaled)\n",
    "    \n",
    "    # Calculate Metrics\n",
    "    rmse = np.sqrt(mean_squared_error(y_test, y_pred))\n",
    "    mae = mean_absolute_error(y_test, y_pred)\n",
    "    mape = mean_absolute_percentage_error(y_test, y_pred)\n",
    "    \n",
    "    # Append Scores to Lists\n",
    "    rmse_scores.append(rmse)\n",
    "    mae_scores.append(mae)\n",
    "    mape_scores.append(mape)\n",
    "\n",
    "# Calculate Average Scores\n",
    "avg_rmse = np.mean(rmse_scores)\n",
    "avg_mae = np.mean(mae_scores)\n",
    "avg_mape = np.mean(mape_scores)\n",
    "\n",
    "# Display Metrics\n",
    "print(\"Average RMSE:\", avg_rmse)\n",
    "print(\"Average MAE:\", avg_mae)\n",
    "print(\"Average MAPE:\", avg_mape)"
   ]
  }
 ],
 "metadata": {
  "kernelspec": {
   "display_name": "Python 3 (ipykernel)",
   "language": "python",
   "name": "python3"
  },
  "language_info": {
   "codemirror_mode": {
    "name": "ipython",
    "version": 3
   },
   "file_extension": ".py",
   "mimetype": "text/x-python",
   "name": "python",
   "nbconvert_exporter": "python",
   "pygments_lexer": "ipython3",
   "version": "3.11.5"
  }
 },
 "nbformat": 4,
 "nbformat_minor": 5
}

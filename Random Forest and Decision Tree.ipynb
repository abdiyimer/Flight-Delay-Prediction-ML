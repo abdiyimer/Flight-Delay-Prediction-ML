{
 "cells": [
  {
   "cell_type": "code",
   "execution_count": null,
   "id": "26ee6986-e49c-4ff9-a638-6e696dfddf3e",
   "metadata": {},
   "outputs": [],
   "source": [
    "import pandas as pd"
   ]
  },
  {
   "cell_type": "code",
   "execution_count": null,
   "id": "fe0b56be-6af6-4c3a-9395-44305db25765",
   "metadata": {},
   "outputs": [],
   "source": [
    "Datasets_path=\"C:\\\\Users\\\\asus\\\\Desktop\\\\Data Science\\\\Machine Learning\\\\Project\\\\Datasets\"\n",
    "Data=pd.read_csv(f\"{Datasets_path}\\\\delays_train.csv\")"
   ]
  },
  {
   "cell_type": "code",
   "execution_count": null,
   "id": "1dc1c0fa-95aa-4bf8-a80d-18e60b8b80fe",
   "metadata": {},
   "outputs": [],
   "source": [
    "Data.dropna(inplace=True)"
   ]
  },
  {
   "cell_type": "code",
   "execution_count": null,
   "id": "5397e873-0417-45b2-95aa-2b417af2b5b7",
   "metadata": {},
   "outputs": [],
   "source": [
    "# Using pd.get_dummies() for one-hot encoding\n",
    "Data = pd.get_dummies(Data, columns=['Arrival_State'], drop_first=True)\n",
    "Data = pd.get_dummies(Data, columns=['Departure_State'], drop_first=True)\n",
    "Data = pd.get_dummies(Data, columns=['Marketing_Airline'], drop_first=True)"
   ]
  },
  {
   "cell_type": "code",
   "execution_count": null,
   "id": "6fc4075a-9539-424d-8c8a-0daf9c711567",
   "metadata": {},
   "outputs": [],
   "source": [
    "# import numpy as np\n",
    "# numeric_columns = Data.select_dtypes(include=[np.number]).columns\n",
    "# Q1 = Data[numeric_columns].quantile(0.25)\n",
    "# Q3 = Data[numeric_columns].quantile(0.75)\n",
    "# IQR = Q3 - Q1\n",
    "# # Define the threshold for outliers\n",
    "# threshold = 1.5\n",
    "# # Filter out rows with outliers in any numeric column\n",
    "# Data = Data[~((Data[numeric_columns] < (Q1 - threshold * IQR)) | (Data[numeric_columns] > (Q3 + threshold * IQR))).any(axis=1)]"
   ]
  },
  {
   "cell_type": "code",
   "execution_count": null,
   "id": "5057fd51-9401-4540-8af1-269902ef86d6",
   "metadata": {},
   "outputs": [],
   "source": [
    "import numpy as np \n",
    "def handle_outliers(series):\n",
    "    Q1 = series.quantile(0.25)\n",
    "    Q3 = series.quantile(0.75)\n",
    "    IQR = Q3 - Q1\n",
    "    lower_limit = Q1 - 1.5 * IQR\n",
    "    upper_limit = Q3 + 1.5 * IQR\n",
    "    # Impute upper outliers with upper limit\n",
    "    series = np.where(series > upper_limit, upper_limit, series)\n",
    "    # Impute lower outliers with lower limit\n",
    "    series = np.where(series < lower_limit, lower_limit, series)\n",
    "    return series\n",
    "\n",
    "numeric_features = Data.select_dtypes(include=[np.number]).columns\n",
    "Data[numeric_features] = Data[numeric_features].apply(handle_outliers)"
   ]
  },
  {
   "cell_type": "markdown",
   "id": "6f3c0a36-c03e-4de9-942a-ee6da2428b25",
   "metadata": {},
   "source": [
    "### RandomForestRegressor"
   ]
  },
  {
   "cell_type": "code",
   "execution_count": null,
   "id": "2369a2d6-736f-4d67-9fe4-1f148bf13b23",
   "metadata": {},
   "outputs": [],
   "source": [
    "from sklearn.preprocessing import StandardScaler\n",
    "from sklearn.ensemble import RandomForestRegressor\n",
    "from sklearn.metrics import mean_absolute_percentage_error, mean_squared_error, mean_absolute_error\n",
    "from sklearn.model_selection import cross_val_predict\n",
    "import numpy as np\n",
    "\n",
    "# Assuming Data is your DataFrame where Arrival_Delay is one of the features\n",
    "X = Data.drop(columns=['Arrival_Delay'])  # Features\n",
    "y = Data['Arrival_Delay']  # Target variable\n",
    "\n",
    "# Standardizing the features\n",
    "scaler = StandardScaler()\n",
    "X_scaled = scaler.fit_transform(X)\n",
    "\n",
    "# Fitting the Random Forest Regressor and making predictions using cross-validation\n",
    "model = RandomForestRegressor()\n",
    "y_pred_cv = cross_val_predict(model, X_scaled, y, cv=5)\n",
    "\n",
    "# Calculating MAPE\n",
    "mape = mean_absolute_percentage_error(y, y_pred_cv)\n",
    "\n",
    "# Calculating MAE\n",
    "mae = mean_absolute_error(y, y_pred_cv)\n",
    "\n",
    "# Calculating RMSE\n",
    "rmse = np.sqrt(mean_squared_error(y, y_pred_cv))\n",
    "\n",
    "print(\"MAPE:\", mape)\n",
    "print(\"MAE:\", mae)\n",
    "print(\"RMSE:\", rmse)"
   ]
  },
  {
   "cell_type": "markdown",
   "id": "634c8220-33f1-4568-bac8-51fd8d14ee9c",
   "metadata": {},
   "source": [
    "### Decision Tree"
   ]
  },
  {
   "cell_type": "code",
   "execution_count": null,
   "id": "6ca12d92-7677-44d2-a4b8-69276cbbb689",
   "metadata": {},
   "outputs": [],
   "source": [
    "from sklearn.preprocessing import StandardScaler\n",
    "from sklearn.tree import DecisionTreeRegressor\n",
    "from sklearn.metrics import mean_absolute_percentage_error, mean_squared_error, mean_absolute_error\n",
    "from sklearn.model_selection import GridSearchCV, cross_val_predict\n",
    "import numpy as np\n",
    "\n",
    "# Assuming Data is your DataFrame where Arrival_Delay is one of the features\n",
    "X = Data.drop(columns=['Arrival_Delay'])  # Features\n",
    "y = Data['Arrival_Delay']  # Target variable\n",
    "\n",
    "# Standardizing the features\n",
    "scaler = StandardScaler()\n",
    "X_scaled = scaler.fit_transform(X)\n",
    "\n",
    "# Define the parameter grid for hyperparameter tuning\n",
    "param_grid = {\n",
    "    'max_depth': [None, 10, 20, 30, 40, 50],\n",
    "    'min_samples_split': [2, 5, 10],\n",
    "    'min_samples_leaf': [1, 2, 4],\n",
    "    'max_features': [None, 'sqrt', 'log2']\n",
    "}\n",
    "\n",
    "# Set up the GridSearchCV\n",
    "grid_search = GridSearchCV(DecisionTreeRegressor(), param_grid, cv=5, scoring='neg_mean_squared_error')\n",
    "\n",
    "# Fit the model to the data\n",
    "grid_search.fit(X_scaled, y)\n",
    "\n",
    "# Get the best parameters and best score\n",
    "best_params = grid_search.best_params_\n",
    "best_score = -grid_search.best_score_\n",
    "\n",
    "print(f'Best parameters: {best_params}')\n",
    "print(f'Best MSE (from cross-validation): {best_score}')\n",
    "\n",
    "# Fit the Decision Tree Regressor with the best parameters\n",
    "best_dtr = grid_search.best_estimator_\n",
    "\n",
    "# Predict on the data using cross-validation\n",
    "y_pred_cv = cross_val_predict(best_dtr, X_scaled, y, cv=5)\n",
    "\n",
    "# Calculate evaluation metrics\n",
    "mape = mean_absolute_percentage_error(y, y_pred_cv)\n",
    "mae = mean_absolute_error(y, y_pred_cv)\n",
    "rmse = np.sqrt(mean_squared_error(y, y_pred_cv))\n",
    "\n",
    "print(\"MAPE:\", mape)\n",
    "print(\"MAE:\", mae)\n",
    "print(\"RMSE:\", rmse)\n"
   ]
  }
 ],
 "metadata": {
  "kernelspec": {
   "display_name": "Python 3 (ipykernel)",
   "language": "python",
   "name": "python3"
  },
  "language_info": {
   "codemirror_mode": {
    "name": "ipython",
    "version": 3
   },
   "file_extension": ".py",
   "mimetype": "text/x-python",
   "name": "python",
   "nbconvert_exporter": "python",
   "pygments_lexer": "ipython3",
   "version": "3.11.5"
  }
 },
 "nbformat": 4,
 "nbformat_minor": 5
}
